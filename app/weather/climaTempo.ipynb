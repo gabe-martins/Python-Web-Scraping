{
  "nbformat": 4,
  "nbformat_minor": 0,
  "metadata": {
    "colab": {
      "name": "scrappingClimaTempo.ipynb",
      "provenance": [],
      "collapsed_sections": []
    },
    "kernelspec": {
      "name": "python3",
      "display_name": "Python 3"
    },
    "language_info": {
      "name": "python"
    }
  },
  "cells": [
    {
      "cell_type": "code",
      "metadata": {
        "id": "JtRm3r-8xmWw"
      },
      "source": [
        "#!pip install urllib\n",
        "import urllib.request\n",
        "import requests \n",
        "from bs4 import BeautifulSoup"
      ],
      "execution_count": 1,
      "outputs": []
    },
    {
      "cell_type": "code",
      "metadata": {
        "id": "_xsYSnW_xvD-"
      },
      "source": [
        "base_url = 'https://www.climatempo.com.br/previsao-do-tempo/cidade/332/voltaredonda-rj'\n",
        "\n",
        "res = requests.get(base_url).content\n",
        "\n",
        "soup = BeautifulSoup(res, 'html.parser')"
      ],
      "execution_count": null,
      "outputs": []
    },
    {
      "cell_type": "code",
      "metadata": {
        "colab": {
          "base_uri": "https://localhost:8080/"
        },
        "id": "bzZSlyaQ9NnW",
        "outputId": "4f3f1a7a-440b-4714-db53-a56b70d10004"
      },
      "source": [
        "print('Resumo: ' + soup.find(class_ = '-gray -line-height-24 _center').text)\n",
        "print('Máximas: ' + soup.find(id = 'max-temp-1').string)\n",
        "print('Mínimas: ' + soup.find(id = 'min-temp-1').string)"
      ],
      "execution_count": null,
      "outputs": [
        {
          "output_type": "stream",
          "text": [
            "Resumo: \n",
            "Hoje\n",
            "será\n",
            "parecido com ontem\n",
            "\n",
            "\n",
            "\n",
            "\n",
            "Sol com algumas nuvens. Não chove.\n",
            "\n",
            "Máximas: 29°\n",
            "Mínimas: 11°\n"
          ],
          "name": "stdout"
        }
      ]
    },
    {
      "cell_type": "code",
      "metadata": {
        "colab": {
          "base_uri": "https://localhost:8080/"
        },
        "id": "6MmR8jxrjse4",
        "outputId": "adff8899-4336-4ee7-c4ba-77c465efae42"
      },
      "source": [
        "def scraping(base_url):\n",
        "  req = requests.get(base_url)\n",
        "  soup = BeautifulSoup(req.content, 'html.parser')\n",
        "  return soup\n",
        "\n",
        "#link = 'https://www.climatempo.com.br/previsao-do-tempo/cidade/332/voltaredonda-rj'\n",
        "link = 'https://www.climatempo.com.br/previsao-do-tempo/cidade/6/riobranco-ac'\n",
        "\n",
        "def weather(city):\n",
        "  req = requests.get(city)\n",
        "  soup = BeautifulSoup(req.content, 'html.parser')\n",
        "\n",
        "  print('Resumo: ' + soup.find(class_ = '-gray -line-height-24 _center').text)\n",
        "  print('Máximas: ' + soup.find(id = 'max-temp-1').string)\n",
        "  print('Mínimas: ' + soup.find(id = 'min-temp-1').string)\n",
        "\n",
        "weather(link)"
      ],
      "execution_count": 7,
      "outputs": [
        {
          "output_type": "stream",
          "text": [
            "Resumo: \n",
            "Hoje\n",
            "será\n",
            "parecido com ontem\n",
            "\n",
            "\n",
            "\n",
            "\n",
            "Sol com algumas nuvens. Não chove.\n",
            "\n",
            "Máximas: 33°\n",
            "Mínimas: 20°\n"
          ],
          "name": "stdout"
        }
      ]
    }
  ]
}